{
 "cells": [
  {
   "cell_type": "code",
   "execution_count": 16,
   "metadata": {},
   "outputs": [],
   "source": [
    "import json"
   ]
  },
  {
   "cell_type": "code",
   "execution_count": 17,
   "metadata": {},
   "outputs": [],
   "source": [
    "def save_json(path, dct):\n",
    "    json_object = json.dumps(dct, indent = 4) \n",
    "    with open(path, 'w') as f:\n",
    "        f.write(json_object)"
   ]
  },
  {
   "cell_type": "code",
   "execution_count": 18,
   "metadata": {},
   "outputs": [],
   "source": [
    "with open('character_info.json', 'r') as f:\n",
    "    dct = json.load(f)"
   ]
  },
  {
   "cell_type": "code",
   "execution_count": 19,
   "metadata": {},
   "outputs": [
    {
     "data": {
      "text/plain": [
       "{'king': {'type': 'hero',\n",
       "  'texture_path': ['character/jungler/animation_new.png'],\n",
       "  'hp': 7,\n",
       "  'armor': 6,\n",
       "  'energy': 200,\n",
       "  'speed_run': 180,\n",
       "  'default_weapon': 'Sword 1',\n",
       "  'width': 32,\n",
       "  'height': 32,\n",
       "  'weapon_x': 16,\n",
       "  'weapon_y': 16,\n",
       "  'dodge_texture_path': ['character/jungler/animation_new.png'],\n",
       "  'cooldown_special_skill_texture_path': 'cooldown/1.png'},\n",
       " 'adventurer': {'type': 'hero',\n",
       "  'texture_path': ['character/jungler/animation_new.png'],\n",
       "  'hp': 6,\n",
       "  'armor': 6,\n",
       "  'energy': 150,\n",
       "  'speed_run': 200,\n",
       "  'default_weapon': 'Sword 1',\n",
       "  'width': 32,\n",
       "  'height': 32,\n",
       "  'weapon_x': 12,\n",
       "  'weapon_y': 16,\n",
       "  'dodge_texture_path': ['character/jungler/animation_new.png'],\n",
       "  'cooldown_special_skill_texture_path': 'cooldown/2.png'},\n",
       " 'jungler': {'type': 'hero',\n",
       "  'texture_path': ['character/jungler/animation_new.png'],\n",
       "  'hp': 8,\n",
       "  'armor': 8,\n",
       "  'energy': 100,\n",
       "  'speed_run': 180,\n",
       "  'default_weapon': 'Gun Red S',\n",
       "  'width': 32,\n",
       "  'height': 32,\n",
       "  'weapon_x': 16,\n",
       "  'weapon_y': 16,\n",
       "  'dodge_texture_path': ['character/jungler/animation_new.png'],\n",
       "  'cooldown_special_skill_texture_path': 'cooldown/3.png'},\n",
       " 'assassin': {'type': 'hero',\n",
       "  'texture_path': ['character/assassin/animation_new.png'],\n",
       "  'hp': 3,\n",
       "  'armor': 7,\n",
       "  'energy': 200,\n",
       "  'speed_run': 250,\n",
       "  'default_weapon': 'Sword 1',\n",
       "  'width': 20,\n",
       "  'height': 28,\n",
       "  'weapon_x': 16,\n",
       "  'weapon_y': 12,\n",
       "  'dodge_texture_path': ['character/assassin/animation_new.png'],\n",
       "  'immortal_texture_path': ['character/assassin/animation_new.png'],\n",
       "  'cooldown_special_skill_texture_path': 'cooldown/4.png'},\n",
       " 'knight': {'type': 'monster',\n",
       "  'texture_path': ['character/jungler/animation_new.png'],\n",
       "  'hp': 7,\n",
       "  'speed_run': 30,\n",
       "  'default_weapon': 'Gun Monster 1',\n",
       "  'width': 32,\n",
       "  'height': 32,\n",
       "  'weapon_x': 16,\n",
       "  'weapon_y': 16,\n",
       "  'cooldown_special_skill_texture_path': 'cooldown_circle.png'},\n",
       " 'teacher': {'type': 'boss',\n",
       "  'texture_path': ['character/jungler/animation_new.png'],\n",
       "  'hp': 30,\n",
       "  'speed_run': 30,\n",
       "  'default_weapon': 'Gun Monster 1',\n",
       "  'width': 64,\n",
       "  'height': 64,\n",
       "  'weapon_x': 32,\n",
       "  'weapon_y': 32,\n",
       "  'cooldown_special_skill_texture_path': 'cooldown_circle.png'}}"
      ]
     },
     "execution_count": 19,
     "metadata": {},
     "output_type": "execute_result"
    }
   ],
   "source": [
    "dct"
   ]
  },
  {
   "cell_type": "code",
   "execution_count": 20,
   "metadata": {},
   "outputs": [],
   "source": [
    "save_json('character_info.json', dct)"
   ]
  }
 ],
 "metadata": {
  "kernelspec": {
   "display_name": "Python 3",
   "language": "python",
   "name": "python3"
  },
  "language_info": {
   "codemirror_mode": {
    "name": "ipython",
    "version": 3
   },
   "file_extension": ".py",
   "mimetype": "text/x-python",
   "name": "python",
   "nbconvert_exporter": "python",
   "pygments_lexer": "ipython3",
   "version": "3.9.15"
  },
  "orig_nbformat": 4
 },
 "nbformat": 4,
 "nbformat_minor": 2
}
