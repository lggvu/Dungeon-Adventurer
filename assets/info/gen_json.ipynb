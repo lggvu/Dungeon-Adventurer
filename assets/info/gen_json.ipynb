{
 "cells": [
  {
   "cell_type": "code",
   "execution_count": 1,
   "metadata": {},
   "outputs": [],
   "source": [
    "import json"
   ]
  },
  {
   "cell_type": "code",
   "execution_count": 2,
   "metadata": {},
   "outputs": [],
   "source": [
    "def save_json(path, dct):\n",
    "    json_object = json.dumps(dct, indent = 4) \n",
    "    with open(path, 'w') as f:\n",
    "        f.write(json_object)"
   ]
  },
  {
   "cell_type": "code",
   "execution_count": 3,
   "metadata": {},
   "outputs": [],
   "source": [
    "with open('character_info.json', 'r') as f:\n",
    "    character_info = json.load(f)"
   ]
  },
  {
   "cell_type": "code",
   "execution_count": 4,
   "metadata": {},
   "outputs": [
    {
     "data": {
      "text/plain": [
       "{'king': {'type': 'hero',\n",
       "  'texture_path': 'character/img1.png',\n",
       "  'hp': 7,\n",
       "  'armor': 6,\n",
       "  'energy': 200,\n",
       "  'speed_run': 180,\n",
       "  'default_weapon': 'Sword 1',\n",
       "  'width': 32,\n",
       "  'height': 32,\n",
       "  'weapon_x': 16,\n",
       "  'weapon_y': 16},\n",
       " 'adventurer': {'type': 'hero',\n",
       "  'texture_path': 'character/adventurer/animation.png',\n",
       "  'hp': 6,\n",
       "  'armor': 6,\n",
       "  'energy': 150,\n",
       "  'speed_run': 200,\n",
       "  'default_weapon': 'Sword 1',\n",
       "  'width': 32,\n",
       "  'height': 32,\n",
       "  'weapon_x': 12,\n",
       "  'weapon_y': 16},\n",
       " 'jungler': {'type': 'hero',\n",
       "  'texture_path': 'character/jungler/animation.png',\n",
       "  'hp': 8,\n",
       "  'armor': 8,\n",
       "  'energy': 100,\n",
       "  'speed_run': 180,\n",
       "  'default_weapon': 'Gun Red S',\n",
       "  'width': 32,\n",
       "  'height': 32,\n",
       "  'weapon_x': 16,\n",
       "  'weapon_y': 16},\n",
       " 'assassin': {'type': 'hero',\n",
       "  'texture_path': 'character/assassin/animation.png',\n",
       "  'hp': 3,\n",
       "  'armor': 7,\n",
       "  'energy': 200,\n",
       "  'speed_run': 250,\n",
       "  'default_weapon': 'Sword 1',\n",
       "  'width': 20,\n",
       "  'height': 28,\n",
       "  'weapon_x': 16,\n",
       "  'weapon_y': 12},\n",
       " 'knight': {'type': 'monster',\n",
       "  'texture_path': 'character/img1.png',\n",
       "  'hp': 7,\n",
       "  'speed_run': 30,\n",
       "  'default_weapon': 'Gun Monster 1',\n",
       "  'width': 32,\n",
       "  'height': 32,\n",
       "  'weapon_x': 16,\n",
       "  'weapon_y': 16},\n",
       " 'teacher': {'type': 'boss',\n",
       "  'texture_path': 'character/img1.png',\n",
       "  'hp': 30,\n",
       "  'speed_run': 30,\n",
       "  'default_weapon': 'Gun Monster 1',\n",
       "  'width': 64,\n",
       "  'height': 64,\n",
       "  'weapon_x': 32,\n",
       "  'weapon_y': 32}}"
      ]
     },
     "execution_count": 4,
     "metadata": {},
     "output_type": "execute_result"
    }
   ],
   "source": [
    "character_info"
   ]
  },
  {
   "cell_type": "code",
   "execution_count": null,
   "metadata": {},
   "outputs": [],
   "source": [
    "for key in character_info:\n",
    "    if character_info[key]['type'] == 'hero':\n",
    "        character_info['dodge_texture_path'] = \"character/img2.png\""
   ]
  }
 ],
 "metadata": {
  "kernelspec": {
   "display_name": "Python 3",
   "language": "python",
   "name": "python3"
  },
  "language_info": {
   "codemirror_mode": {
    "name": "ipython",
    "version": 3
   },
   "file_extension": ".py",
   "mimetype": "text/x-python",
   "name": "python",
   "nbconvert_exporter": "python",
   "pygments_lexer": "ipython3",
   "version": "3.9.15"
  },
  "orig_nbformat": 4
 },
 "nbformat": 4,
 "nbformat_minor": 2
}
